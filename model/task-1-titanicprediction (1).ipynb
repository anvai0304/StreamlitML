{
 "cells": [
  {
   "cell_type": "code",
   "execution_count": 9,
   "id": "864dc60d",
   "metadata": {
    "_cell_guid": "b1076dfc-b9ad-4769-8c92-a6c4dae69d19",
    "_uuid": "8f2839f25d086af736a60e9eeb907d3b93b6e0e5",
    "execution": {
     "iopub.execute_input": "2024-01-12T12:40:30.871614Z",
     "iopub.status.busy": "2024-01-12T12:40:30.871193Z",
     "iopub.status.idle": "2024-01-12T12:40:32.761888Z",
     "shell.execute_reply": "2024-01-12T12:40:32.760662Z"
    },
    "papermill": {
     "duration": 1.905147,
     "end_time": "2024-01-12T12:40:32.764738",
     "exception": false,
     "start_time": "2024-01-12T12:40:30.859591",
     "status": "completed"
    },
    "tags": []
   },
   "outputs": [],
   "source": [
    "# Call the necessary libraries\n",
    "import numpy as np\n",
    "import pandas as pd\n",
    "import matplotlib.pyplot as plt\n",
    "%matplotlib inline\n",
    "import seaborn as sns"
   ]
  },
  {
   "cell_type": "markdown",
   "id": "8441b86b",
   "metadata": {
    "papermill": {
     "duration": 0.00854,
     "end_time": "2024-01-12T12:40:32.782250",
     "exception": false,
     "start_time": "2024-01-12T12:40:32.773710",
     "status": "completed"
    },
    "tags": []
   },
   "source": [
    "### Load The Data"
   ]
  },
  {
   "cell_type": "code",
   "execution_count": 10,
   "id": "d97c2fd9",
   "metadata": {
    "execution": {
     "iopub.execute_input": "2024-01-12T12:40:32.802632Z",
     "iopub.status.busy": "2024-01-12T12:40:32.802074Z",
     "iopub.status.idle": "2024-01-12T12:40:32.832405Z",
     "shell.execute_reply": "2024-01-12T12:40:32.831136Z"
    },
    "papermill": {
     "duration": 0.043672,
     "end_time": "2024-01-12T12:40:32.835156",
     "exception": false,
     "start_time": "2024-01-12T12:40:32.791484",
     "status": "completed"
    },
    "tags": []
   },
   "outputs": [],
   "source": [
    "df = pd.read_csv('train (1).csv')"
   ]
  },
  {
   "cell_type": "code",
   "execution_count": 11,
   "id": "c5c6e254",
   "metadata": {
    "execution": {
     "iopub.execute_input": "2024-01-12T12:40:32.854590Z",
     "iopub.status.busy": "2024-01-12T12:40:32.854198Z",
     "iopub.status.idle": "2024-01-12T12:40:32.889626Z",
     "shell.execute_reply": "2024-01-12T12:40:32.888509Z"
    },
    "papermill": {
     "duration": 0.048302,
     "end_time": "2024-01-12T12:40:32.892357",
     "exception": false,
     "start_time": "2024-01-12T12:40:32.844055",
     "status": "completed"
    },
    "tags": []
   },
   "outputs": [
    {
     "data": {
      "text/html": [
       "<div>\n",
       "<style scoped>\n",
       "    .dataframe tbody tr th:only-of-type {\n",
       "        vertical-align: middle;\n",
       "    }\n",
       "\n",
       "    .dataframe tbody tr th {\n",
       "        vertical-align: top;\n",
       "    }\n",
       "\n",
       "    .dataframe thead th {\n",
       "        text-align: right;\n",
       "    }\n",
       "</style>\n",
       "<table border=\"1\" class=\"dataframe\">\n",
       "  <thead>\n",
       "    <tr style=\"text-align: right;\">\n",
       "      <th></th>\n",
       "      <th>PassengerId</th>\n",
       "      <th>Survived</th>\n",
       "      <th>Pclass</th>\n",
       "      <th>Name</th>\n",
       "      <th>Sex</th>\n",
       "      <th>Age</th>\n",
       "      <th>SibSp</th>\n",
       "      <th>Parch</th>\n",
       "      <th>Ticket</th>\n",
       "      <th>Fare</th>\n",
       "      <th>Cabin</th>\n",
       "      <th>Embarked</th>\n",
       "    </tr>\n",
       "  </thead>\n",
       "  <tbody>\n",
       "    <tr>\n",
       "      <th>0</th>\n",
       "      <td>1</td>\n",
       "      <td>0</td>\n",
       "      <td>3</td>\n",
       "      <td>Braund, Mr. Owen Harris</td>\n",
       "      <td>male</td>\n",
       "      <td>22.0</td>\n",
       "      <td>1</td>\n",
       "      <td>0</td>\n",
       "      <td>A/5 21171</td>\n",
       "      <td>7.2500</td>\n",
       "      <td>NaN</td>\n",
       "      <td>S</td>\n",
       "    </tr>\n",
       "    <tr>\n",
       "      <th>1</th>\n",
       "      <td>2</td>\n",
       "      <td>1</td>\n",
       "      <td>1</td>\n",
       "      <td>Cumings, Mrs. John Bradley (Florence Briggs Th...</td>\n",
       "      <td>female</td>\n",
       "      <td>38.0</td>\n",
       "      <td>1</td>\n",
       "      <td>0</td>\n",
       "      <td>PC 17599</td>\n",
       "      <td>71.2833</td>\n",
       "      <td>C85</td>\n",
       "      <td>C</td>\n",
       "    </tr>\n",
       "    <tr>\n",
       "      <th>2</th>\n",
       "      <td>3</td>\n",
       "      <td>1</td>\n",
       "      <td>3</td>\n",
       "      <td>Heikkinen, Miss. Laina</td>\n",
       "      <td>female</td>\n",
       "      <td>26.0</td>\n",
       "      <td>0</td>\n",
       "      <td>0</td>\n",
       "      <td>STON/O2. 3101282</td>\n",
       "      <td>7.9250</td>\n",
       "      <td>NaN</td>\n",
       "      <td>S</td>\n",
       "    </tr>\n",
       "    <tr>\n",
       "      <th>3</th>\n",
       "      <td>4</td>\n",
       "      <td>1</td>\n",
       "      <td>1</td>\n",
       "      <td>Futrelle, Mrs. Jacques Heath (Lily May Peel)</td>\n",
       "      <td>female</td>\n",
       "      <td>35.0</td>\n",
       "      <td>1</td>\n",
       "      <td>0</td>\n",
       "      <td>113803</td>\n",
       "      <td>53.1000</td>\n",
       "      <td>C123</td>\n",
       "      <td>S</td>\n",
       "    </tr>\n",
       "    <tr>\n",
       "      <th>4</th>\n",
       "      <td>5</td>\n",
       "      <td>0</td>\n",
       "      <td>3</td>\n",
       "      <td>Allen, Mr. William Henry</td>\n",
       "      <td>male</td>\n",
       "      <td>35.0</td>\n",
       "      <td>0</td>\n",
       "      <td>0</td>\n",
       "      <td>373450</td>\n",
       "      <td>8.0500</td>\n",
       "      <td>NaN</td>\n",
       "      <td>S</td>\n",
       "    </tr>\n",
       "  </tbody>\n",
       "</table>\n",
       "</div>"
      ],
      "text/plain": [
       "   PassengerId  Survived  Pclass  \\\n",
       "0            1         0       3   \n",
       "1            2         1       1   \n",
       "2            3         1       3   \n",
       "3            4         1       1   \n",
       "4            5         0       3   \n",
       "\n",
       "                                                Name     Sex   Age  SibSp  \\\n",
       "0                            Braund, Mr. Owen Harris    male  22.0      1   \n",
       "1  Cumings, Mrs. John Bradley (Florence Briggs Th...  female  38.0      1   \n",
       "2                             Heikkinen, Miss. Laina  female  26.0      0   \n",
       "3       Futrelle, Mrs. Jacques Heath (Lily May Peel)  female  35.0      1   \n",
       "4                           Allen, Mr. William Henry    male  35.0      0   \n",
       "\n",
       "   Parch            Ticket     Fare Cabin Embarked  \n",
       "0      0         A/5 21171   7.2500   NaN        S  \n",
       "1      0          PC 17599  71.2833   C85        C  \n",
       "2      0  STON/O2. 3101282   7.9250   NaN        S  \n",
       "3      0            113803  53.1000  C123        S  \n",
       "4      0            373450   8.0500   NaN        S  "
      ]
     },
     "execution_count": 11,
     "metadata": {},
     "output_type": "execute_result"
    }
   ],
   "source": [
    "df.head()"
   ]
  },
  {
   "cell_type": "code",
   "execution_count": 12,
   "id": "c4bdf91b",
   "metadata": {
    "execution": {
     "iopub.execute_input": "2024-01-12T12:40:32.913723Z",
     "iopub.status.busy": "2024-01-12T12:40:32.913342Z",
     "iopub.status.idle": "2024-01-12T12:40:32.918263Z",
     "shell.execute_reply": "2024-01-12T12:40:32.917029Z"
    },
    "papermill": {
     "duration": 0.018628,
     "end_time": "2024-01-12T12:40:32.920659",
     "exception": false,
     "start_time": "2024-01-12T12:40:32.902031",
     "status": "completed"
    },
    "tags": []
   },
   "outputs": [],
   "source": [
    "# Target variable\n",
    "y = df['Survived']"
   ]
  },
  {
   "cell_type": "code",
   "execution_count": 13,
   "id": "0f8e987c",
   "metadata": {
    "execution": {
     "iopub.execute_input": "2024-01-12T12:40:32.941362Z",
     "iopub.status.busy": "2024-01-12T12:40:32.940948Z",
     "iopub.status.idle": "2024-01-12T12:40:32.948796Z",
     "shell.execute_reply": "2024-01-12T12:40:32.947931Z"
    },
    "papermill": {
     "duration": 0.020604,
     "end_time": "2024-01-12T12:40:32.950837",
     "exception": false,
     "start_time": "2024-01-12T12:40:32.930233",
     "status": "completed"
    },
    "tags": []
   },
   "outputs": [
    {
     "data": {
      "text/plain": [
       "0    0\n",
       "1    1\n",
       "2    1\n",
       "3    1\n",
       "4    0\n",
       "Name: Survived, dtype: int64"
      ]
     },
     "execution_count": 13,
     "metadata": {},
     "output_type": "execute_result"
    }
   ],
   "source": [
    "y.head()"
   ]
  },
  {
   "cell_type": "markdown",
   "id": "45164987",
   "metadata": {
    "papermill": {
     "duration": 0.009006,
     "end_time": "2024-01-12T12:40:32.969530",
     "exception": false,
     "start_time": "2024-01-12T12:40:32.960524",
     "status": "completed"
    },
    "tags": []
   },
   "source": [
    "### Filtering the obvious non-affecting features\n",
    "\n",
    "##### These are 'PassengerId','Name','Ticket','Cabin','Embarked' . These will not have too much affect on our model."
   ]
  },
  {
   "cell_type": "code",
   "execution_count": 14,
   "id": "26605b57",
   "metadata": {
    "execution": {
     "iopub.execute_input": "2024-01-12T12:40:32.991223Z",
     "iopub.status.busy": "2024-01-12T12:40:32.990476Z",
     "iopub.status.idle": "2024-01-12T12:40:33.005069Z",
     "shell.execute_reply": "2024-01-12T12:40:33.004094Z"
    },
    "papermill": {
     "duration": 0.028907,
     "end_time": "2024-01-12T12:40:33.007723",
     "exception": false,
     "start_time": "2024-01-12T12:40:32.978816",
     "status": "completed"
    },
    "tags": []
   },
   "outputs": [],
   "source": [
    "# Droping those features\n",
    "new_df = df.drop(['PassengerId', 'Name', 'Ticket', 'Cabin', 'Embarked','Survived'], axis = 1)"
   ]
  },
  {
   "cell_type": "code",
   "execution_count": 15,
   "id": "30558907",
   "metadata": {
    "execution": {
     "iopub.execute_input": "2024-01-12T12:40:33.028888Z",
     "iopub.status.busy": "2024-01-12T12:40:33.028491Z",
     "iopub.status.idle": "2024-01-12T12:40:33.043969Z",
     "shell.execute_reply": "2024-01-12T12:40:33.042831Z"
    },
    "papermill": {
     "duration": 0.029264,
     "end_time": "2024-01-12T12:40:33.046942",
     "exception": false,
     "start_time": "2024-01-12T12:40:33.017678",
     "status": "completed"
    },
    "tags": []
   },
   "outputs": [
    {
     "data": {
      "text/html": [
       "<div>\n",
       "<style scoped>\n",
       "    .dataframe tbody tr th:only-of-type {\n",
       "        vertical-align: middle;\n",
       "    }\n",
       "\n",
       "    .dataframe tbody tr th {\n",
       "        vertical-align: top;\n",
       "    }\n",
       "\n",
       "    .dataframe thead th {\n",
       "        text-align: right;\n",
       "    }\n",
       "</style>\n",
       "<table border=\"1\" class=\"dataframe\">\n",
       "  <thead>\n",
       "    <tr style=\"text-align: right;\">\n",
       "      <th></th>\n",
       "      <th>Pclass</th>\n",
       "      <th>Sex</th>\n",
       "      <th>Age</th>\n",
       "      <th>SibSp</th>\n",
       "      <th>Parch</th>\n",
       "      <th>Fare</th>\n",
       "    </tr>\n",
       "  </thead>\n",
       "  <tbody>\n",
       "    <tr>\n",
       "      <th>0</th>\n",
       "      <td>3</td>\n",
       "      <td>male</td>\n",
       "      <td>22.0</td>\n",
       "      <td>1</td>\n",
       "      <td>0</td>\n",
       "      <td>7.2500</td>\n",
       "    </tr>\n",
       "    <tr>\n",
       "      <th>1</th>\n",
       "      <td>1</td>\n",
       "      <td>female</td>\n",
       "      <td>38.0</td>\n",
       "      <td>1</td>\n",
       "      <td>0</td>\n",
       "      <td>71.2833</td>\n",
       "    </tr>\n",
       "    <tr>\n",
       "      <th>2</th>\n",
       "      <td>3</td>\n",
       "      <td>female</td>\n",
       "      <td>26.0</td>\n",
       "      <td>0</td>\n",
       "      <td>0</td>\n",
       "      <td>7.9250</td>\n",
       "    </tr>\n",
       "    <tr>\n",
       "      <th>3</th>\n",
       "      <td>1</td>\n",
       "      <td>female</td>\n",
       "      <td>35.0</td>\n",
       "      <td>1</td>\n",
       "      <td>0</td>\n",
       "      <td>53.1000</td>\n",
       "    </tr>\n",
       "    <tr>\n",
       "      <th>4</th>\n",
       "      <td>3</td>\n",
       "      <td>male</td>\n",
       "      <td>35.0</td>\n",
       "      <td>0</td>\n",
       "      <td>0</td>\n",
       "      <td>8.0500</td>\n",
       "    </tr>\n",
       "  </tbody>\n",
       "</table>\n",
       "</div>"
      ],
      "text/plain": [
       "   Pclass     Sex   Age  SibSp  Parch     Fare\n",
       "0       3    male  22.0      1      0   7.2500\n",
       "1       1  female  38.0      1      0  71.2833\n",
       "2       3  female  26.0      0      0   7.9250\n",
       "3       1  female  35.0      1      0  53.1000\n",
       "4       3    male  35.0      0      0   8.0500"
      ]
     },
     "execution_count": 15,
     "metadata": {},
     "output_type": "execute_result"
    }
   ],
   "source": [
    "new_df.head()"
   ]
  },
  {
   "cell_type": "markdown",
   "id": "9570d22d",
   "metadata": {
    "papermill": {
     "duration": 0.009363,
     "end_time": "2024-01-12T12:40:33.066324",
     "exception": false,
     "start_time": "2024-01-12T12:40:33.056961",
     "status": "completed"
    },
    "tags": []
   },
   "source": [
    "#### Let's check for any missing value"
   ]
  },
  {
   "cell_type": "code",
   "execution_count": 16,
   "id": "4b3818df",
   "metadata": {
    "execution": {
     "iopub.execute_input": "2024-01-12T12:40:33.089925Z",
     "iopub.status.busy": "2024-01-12T12:40:33.089246Z",
     "iopub.status.idle": "2024-01-12T12:40:33.100817Z",
     "shell.execute_reply": "2024-01-12T12:40:33.099587Z"
    },
    "papermill": {
     "duration": 0.026642,
     "end_time": "2024-01-12T12:40:33.103908",
     "exception": false,
     "start_time": "2024-01-12T12:40:33.077266",
     "status": "completed"
    },
    "tags": []
   },
   "outputs": [
    {
     "data": {
      "text/plain": [
       "Pclass    False\n",
       "Sex       False\n",
       "Age        True\n",
       "SibSp     False\n",
       "Parch     False\n",
       "Fare      False\n",
       "dtype: bool"
      ]
     },
     "execution_count": 16,
     "metadata": {},
     "output_type": "execute_result"
    }
   ],
   "source": [
    "new_df.isnull().any()"
   ]
  },
  {
   "cell_type": "code",
   "execution_count": 17,
   "id": "3f9a84c9",
   "metadata": {
    "execution": {
     "iopub.execute_input": "2024-01-12T12:40:33.125477Z",
     "iopub.status.busy": "2024-01-12T12:40:33.125077Z",
     "iopub.status.idle": "2024-01-12T12:40:33.134373Z",
     "shell.execute_reply": "2024-01-12T12:40:33.133504Z"
    },
    "papermill": {
     "duration": 0.022763,
     "end_time": "2024-01-12T12:40:33.136728",
     "exception": false,
     "start_time": "2024-01-12T12:40:33.113965",
     "status": "completed"
    },
    "tags": []
   },
   "outputs": [
    {
     "data": {
      "text/plain": [
       "Pclass      0\n",
       "Sex         0\n",
       "Age       177\n",
       "SibSp       0\n",
       "Parch       0\n",
       "Fare        0\n",
       "dtype: int64"
      ]
     },
     "execution_count": 17,
     "metadata": {},
     "output_type": "execute_result"
    }
   ],
   "source": [
    "new_df.isnull().sum()"
   ]
  },
  {
   "cell_type": "code",
   "execution_count": 18,
   "id": "ad78c506",
   "metadata": {
    "execution": {
     "iopub.execute_input": "2024-01-12T12:40:33.159571Z",
     "iopub.status.busy": "2024-01-12T12:40:33.158452Z",
     "iopub.status.idle": "2024-01-12T12:40:33.163887Z",
     "shell.execute_reply": "2024-01-12T12:40:33.163009Z"
    },
    "papermill": {
     "duration": 0.019505,
     "end_time": "2024-01-12T12:40:33.166178",
     "exception": false,
     "start_time": "2024-01-12T12:40:33.146673",
     "status": "completed"
    },
    "tags": []
   },
   "outputs": [],
   "source": [
    "X = new_df.fillna(0)"
   ]
  },
  {
   "cell_type": "code",
   "execution_count": 19,
   "id": "687a1cb5",
   "metadata": {
    "execution": {
     "iopub.execute_input": "2024-01-12T12:40:33.191139Z",
     "iopub.status.busy": "2024-01-12T12:40:33.190030Z",
     "iopub.status.idle": "2024-01-12T12:40:33.200096Z",
     "shell.execute_reply": "2024-01-12T12:40:33.198891Z"
    },
    "papermill": {
     "duration": 0.025976,
     "end_time": "2024-01-12T12:40:33.202900",
     "exception": false,
     "start_time": "2024-01-12T12:40:33.176924",
     "status": "completed"
    },
    "tags": []
   },
   "outputs": [
    {
     "data": {
      "text/plain": [
       "Pclass    False\n",
       "Sex       False\n",
       "Age       False\n",
       "SibSp     False\n",
       "Parch     False\n",
       "Fare      False\n",
       "dtype: bool"
      ]
     },
     "execution_count": 19,
     "metadata": {},
     "output_type": "execute_result"
    }
   ],
   "source": [
    "X.isnull().any()"
   ]
  },
  {
   "cell_type": "code",
   "execution_count": 20,
   "id": "2c989db8",
   "metadata": {
    "execution": {
     "iopub.execute_input": "2024-01-12T12:40:33.224840Z",
     "iopub.status.busy": "2024-01-12T12:40:33.224400Z",
     "iopub.status.idle": "2024-01-12T12:40:33.238390Z",
     "shell.execute_reply": "2024-01-12T12:40:33.237058Z"
    },
    "papermill": {
     "duration": 0.02802,
     "end_time": "2024-01-12T12:40:33.240895",
     "exception": false,
     "start_time": "2024-01-12T12:40:33.212875",
     "status": "completed"
    },
    "tags": []
   },
   "outputs": [
    {
     "data": {
      "text/html": [
       "<div>\n",
       "<style scoped>\n",
       "    .dataframe tbody tr th:only-of-type {\n",
       "        vertical-align: middle;\n",
       "    }\n",
       "\n",
       "    .dataframe tbody tr th {\n",
       "        vertical-align: top;\n",
       "    }\n",
       "\n",
       "    .dataframe thead th {\n",
       "        text-align: right;\n",
       "    }\n",
       "</style>\n",
       "<table border=\"1\" class=\"dataframe\">\n",
       "  <thead>\n",
       "    <tr style=\"text-align: right;\">\n",
       "      <th></th>\n",
       "      <th>Pclass</th>\n",
       "      <th>Sex</th>\n",
       "      <th>Age</th>\n",
       "      <th>SibSp</th>\n",
       "      <th>Parch</th>\n",
       "      <th>Fare</th>\n",
       "    </tr>\n",
       "  </thead>\n",
       "  <tbody>\n",
       "    <tr>\n",
       "      <th>0</th>\n",
       "      <td>3</td>\n",
       "      <td>male</td>\n",
       "      <td>22.0</td>\n",
       "      <td>1</td>\n",
       "      <td>0</td>\n",
       "      <td>7.2500</td>\n",
       "    </tr>\n",
       "    <tr>\n",
       "      <th>1</th>\n",
       "      <td>1</td>\n",
       "      <td>female</td>\n",
       "      <td>38.0</td>\n",
       "      <td>1</td>\n",
       "      <td>0</td>\n",
       "      <td>71.2833</td>\n",
       "    </tr>\n",
       "    <tr>\n",
       "      <th>2</th>\n",
       "      <td>3</td>\n",
       "      <td>female</td>\n",
       "      <td>26.0</td>\n",
       "      <td>0</td>\n",
       "      <td>0</td>\n",
       "      <td>7.9250</td>\n",
       "    </tr>\n",
       "    <tr>\n",
       "      <th>3</th>\n",
       "      <td>1</td>\n",
       "      <td>female</td>\n",
       "      <td>35.0</td>\n",
       "      <td>1</td>\n",
       "      <td>0</td>\n",
       "      <td>53.1000</td>\n",
       "    </tr>\n",
       "    <tr>\n",
       "      <th>4</th>\n",
       "      <td>3</td>\n",
       "      <td>male</td>\n",
       "      <td>35.0</td>\n",
       "      <td>0</td>\n",
       "      <td>0</td>\n",
       "      <td>8.0500</td>\n",
       "    </tr>\n",
       "  </tbody>\n",
       "</table>\n",
       "</div>"
      ],
      "text/plain": [
       "   Pclass     Sex   Age  SibSp  Parch     Fare\n",
       "0       3    male  22.0      1      0   7.2500\n",
       "1       1  female  38.0      1      0  71.2833\n",
       "2       3  female  26.0      0      0   7.9250\n",
       "3       1  female  35.0      1      0  53.1000\n",
       "4       3    male  35.0      0      0   8.0500"
      ]
     },
     "execution_count": 20,
     "metadata": {},
     "output_type": "execute_result"
    }
   ],
   "source": [
    "X.head()"
   ]
  },
  {
   "cell_type": "markdown",
   "id": "f6749a59",
   "metadata": {
    "papermill": {
     "duration": 0.009804,
     "end_time": "2024-01-12T12:40:33.260968",
     "exception": false,
     "start_time": "2024-01-12T12:40:33.251164",
     "status": "completed"
    },
    "tags": []
   },
   "source": [
    "### We will use Label Encoding to convert categorical data into numerical data"
   ]
  },
  {
   "cell_type": "code",
   "execution_count": 21,
   "id": "33bed727",
   "metadata": {
    "execution": {
     "iopub.execute_input": "2024-01-12T12:40:33.283142Z",
     "iopub.status.busy": "2024-01-12T12:40:33.282728Z",
     "iopub.status.idle": "2024-01-12T12:40:33.537012Z",
     "shell.execute_reply": "2024-01-12T12:40:33.535726Z"
    },
    "papermill": {
     "duration": 0.268832,
     "end_time": "2024-01-12T12:40:33.539984",
     "exception": false,
     "start_time": "2024-01-12T12:40:33.271152",
     "status": "completed"
    },
    "tags": []
   },
   "outputs": [],
   "source": [
    "from sklearn.preprocessing import LabelEncoder\n",
    "le = LabelEncoder()\n",
    "\n",
    "X['Sex'] = le.fit_transform(X['Sex'])"
   ]
  },
  {
   "cell_type": "code",
   "execution_count": 22,
   "id": "708fc5f3",
   "metadata": {
    "execution": {
     "iopub.execute_input": "2024-01-12T12:40:33.562388Z",
     "iopub.status.busy": "2024-01-12T12:40:33.561898Z",
     "iopub.status.idle": "2024-01-12T12:40:33.578877Z",
     "shell.execute_reply": "2024-01-12T12:40:33.577557Z"
    },
    "papermill": {
     "duration": 0.031234,
     "end_time": "2024-01-12T12:40:33.581611",
     "exception": false,
     "start_time": "2024-01-12T12:40:33.550377",
     "status": "completed"
    },
    "tags": []
   },
   "outputs": [
    {
     "data": {
      "text/html": [
       "<div>\n",
       "<style scoped>\n",
       "    .dataframe tbody tr th:only-of-type {\n",
       "        vertical-align: middle;\n",
       "    }\n",
       "\n",
       "    .dataframe tbody tr th {\n",
       "        vertical-align: top;\n",
       "    }\n",
       "\n",
       "    .dataframe thead th {\n",
       "        text-align: right;\n",
       "    }\n",
       "</style>\n",
       "<table border=\"1\" class=\"dataframe\">\n",
       "  <thead>\n",
       "    <tr style=\"text-align: right;\">\n",
       "      <th></th>\n",
       "      <th>Pclass</th>\n",
       "      <th>Sex</th>\n",
       "      <th>Age</th>\n",
       "      <th>SibSp</th>\n",
       "      <th>Parch</th>\n",
       "      <th>Fare</th>\n",
       "    </tr>\n",
       "  </thead>\n",
       "  <tbody>\n",
       "    <tr>\n",
       "      <th>0</th>\n",
       "      <td>3</td>\n",
       "      <td>1</td>\n",
       "      <td>22.0</td>\n",
       "      <td>1</td>\n",
       "      <td>0</td>\n",
       "      <td>7.2500</td>\n",
       "    </tr>\n",
       "    <tr>\n",
       "      <th>1</th>\n",
       "      <td>1</td>\n",
       "      <td>0</td>\n",
       "      <td>38.0</td>\n",
       "      <td>1</td>\n",
       "      <td>0</td>\n",
       "      <td>71.2833</td>\n",
       "    </tr>\n",
       "    <tr>\n",
       "      <th>2</th>\n",
       "      <td>3</td>\n",
       "      <td>0</td>\n",
       "      <td>26.0</td>\n",
       "      <td>0</td>\n",
       "      <td>0</td>\n",
       "      <td>7.9250</td>\n",
       "    </tr>\n",
       "    <tr>\n",
       "      <th>3</th>\n",
       "      <td>1</td>\n",
       "      <td>0</td>\n",
       "      <td>35.0</td>\n",
       "      <td>1</td>\n",
       "      <td>0</td>\n",
       "      <td>53.1000</td>\n",
       "    </tr>\n",
       "    <tr>\n",
       "      <th>4</th>\n",
       "      <td>3</td>\n",
       "      <td>1</td>\n",
       "      <td>35.0</td>\n",
       "      <td>0</td>\n",
       "      <td>0</td>\n",
       "      <td>8.0500</td>\n",
       "    </tr>\n",
       "  </tbody>\n",
       "</table>\n",
       "</div>"
      ],
      "text/plain": [
       "   Pclass  Sex   Age  SibSp  Parch     Fare\n",
       "0       3    1  22.0      1      0   7.2500\n",
       "1       1    0  38.0      1      0  71.2833\n",
       "2       3    0  26.0      0      0   7.9250\n",
       "3       1    0  35.0      1      0  53.1000\n",
       "4       3    1  35.0      0      0   8.0500"
      ]
     },
     "execution_count": 22,
     "metadata": {},
     "output_type": "execute_result"
    }
   ],
   "source": [
    "X.head()"
   ]
  },
  {
   "cell_type": "markdown",
   "id": "fdb09c3b",
   "metadata": {
    "papermill": {
     "duration": 0.010687,
     "end_time": "2024-01-12T12:40:33.603452",
     "exception": false,
     "start_time": "2024-01-12T12:40:33.592765",
     "status": "completed"
    },
    "tags": []
   },
   "source": [
    "### Split the data into training and testing for model validation"
   ]
  },
  {
   "cell_type": "code",
   "execution_count": 23,
   "id": "f932cfed",
   "metadata": {
    "execution": {
     "iopub.execute_input": "2024-01-12T12:40:33.626646Z",
     "iopub.status.busy": "2024-01-12T12:40:33.626215Z",
     "iopub.status.idle": "2024-01-12T12:40:33.762310Z",
     "shell.execute_reply": "2024-01-12T12:40:33.761002Z"
    },
    "papermill": {
     "duration": 0.151278,
     "end_time": "2024-01-12T12:40:33.765190",
     "exception": false,
     "start_time": "2024-01-12T12:40:33.613912",
     "status": "completed"
    },
    "tags": []
   },
   "outputs": [],
   "source": [
    "from sklearn.model_selection import train_test_split\n",
    "\n",
    "X_train,X_test,y_train,y_test = train_test_split(X,y,test_size = 0.3, random_state = 42)"
   ]
  },
  {
   "cell_type": "markdown",
   "id": "128ce3d0",
   "metadata": {
    "papermill": {
     "duration": 0.010576,
     "end_time": "2024-01-12T12:40:33.786657",
     "exception": false,
     "start_time": "2024-01-12T12:40:33.776081",
     "status": "completed"
    },
    "tags": []
   },
   "source": [
    "## Model:\n",
    "\n",
    "#### 1. XGBOOST"
   ]
  },
  {
   "cell_type": "code",
   "execution_count": 24,
   "id": "423a32af",
   "metadata": {
    "execution": {
     "iopub.execute_input": "2024-01-12T12:40:33.811628Z",
     "iopub.status.busy": "2024-01-12T12:40:33.810493Z",
     "iopub.status.idle": "2024-01-12T12:40:34.032038Z",
     "shell.execute_reply": "2024-01-12T12:40:34.030684Z"
    },
    "papermill": {
     "duration": 0.23694,
     "end_time": "2024-01-12T12:40:34.034942",
     "exception": false,
     "start_time": "2024-01-12T12:40:33.798002",
     "status": "completed"
    },
    "tags": []
   },
   "outputs": [],
   "source": [
    "from xgboost import XGBClassifier\n",
    "from sklearn.model_selection import GridSearchCV\n",
    "from sklearn.metrics import classification_report,accuracy_score"
   ]
  },
  {
   "cell_type": "code",
   "execution_count": 25,
   "id": "4d74b4b3",
   "metadata": {
    "execution": {
     "iopub.execute_input": "2024-01-12T12:40:34.060160Z",
     "iopub.status.busy": "2024-01-12T12:40:34.059695Z",
     "iopub.status.idle": "2024-01-12T12:40:34.065433Z",
     "shell.execute_reply": "2024-01-12T12:40:34.064252Z"
    },
    "papermill": {
     "duration": 0.021785,
     "end_time": "2024-01-12T12:40:34.068368",
     "exception": false,
     "start_time": "2024-01-12T12:40:34.046583",
     "status": "completed"
    },
    "tags": []
   },
   "outputs": [],
   "source": [
    "params = {'max_depth' : [8,10,12,15], 'learning_rate' : [0.01,0.05,0.1,0.2], 'scale_pos_weight' : [2,3,4,5]}"
   ]
  },
  {
   "cell_type": "code",
   "execution_count": 26,
   "id": "681d2771",
   "metadata": {
    "execution": {
     "iopub.execute_input": "2024-01-12T12:40:34.091883Z",
     "iopub.status.busy": "2024-01-12T12:40:34.091443Z",
     "iopub.status.idle": "2024-01-12T12:40:34.097773Z",
     "shell.execute_reply": "2024-01-12T12:40:34.095914Z"
    },
    "papermill": {
     "duration": 0.022849,
     "end_time": "2024-01-12T12:40:34.101920",
     "exception": false,
     "start_time": "2024-01-12T12:40:34.079071",
     "status": "completed"
    },
    "tags": []
   },
   "outputs": [],
   "source": [
    "# Model\n",
    "xgbm = XGBClassifier()"
   ]
  },
  {
   "cell_type": "code",
   "execution_count": 27,
   "id": "8beb7d6f",
   "metadata": {
    "execution": {
     "iopub.execute_input": "2024-01-12T12:40:34.125870Z",
     "iopub.status.busy": "2024-01-12T12:40:34.125411Z",
     "iopub.status.idle": "2024-01-12T12:40:34.131293Z",
     "shell.execute_reply": "2024-01-12T12:40:34.129932Z"
    },
    "papermill": {
     "duration": 0.021167,
     "end_time": "2024-01-12T12:40:34.133782",
     "exception": false,
     "start_time": "2024-01-12T12:40:34.112615",
     "status": "completed"
    },
    "tags": []
   },
   "outputs": [],
   "source": [
    "model = GridSearchCV(xgbm, params, cv = 5, n_jobs = -1, scoring = 'f1', verbose = 2)"
   ]
  },
  {
   "cell_type": "code",
   "execution_count": 28,
   "id": "10c31cec",
   "metadata": {
    "execution": {
     "iopub.execute_input": "2024-01-12T12:40:34.157571Z",
     "iopub.status.busy": "2024-01-12T12:40:34.157083Z",
     "iopub.status.idle": "2024-01-12T12:40:49.356081Z",
     "shell.execute_reply": "2024-01-12T12:40:49.354839Z"
    },
    "papermill": {
     "duration": 15.213634,
     "end_time": "2024-01-12T12:40:49.358569",
     "exception": false,
     "start_time": "2024-01-12T12:40:34.144935",
     "status": "completed"
    },
    "tags": []
   },
   "outputs": [
    {
     "name": "stdout",
     "output_type": "stream",
     "text": [
      "Fitting 5 folds for each of 64 candidates, totalling 320 fits\n",
      "Best parameters:  {'learning_rate': 0.1, 'max_depth': 12, 'scale_pos_weight': 2}\n",
      "              precision    recall  f1-score   support\n",
      "\n",
      "           0       0.84      0.83      0.84       157\n",
      "           1       0.76      0.78      0.77       111\n",
      "\n",
      "    accuracy                           0.81       268\n",
      "   macro avg       0.80      0.81      0.80       268\n",
      "weighted avg       0.81      0.81      0.81       268\n",
      "\n"
     ]
    }
   ],
   "source": [
    "model.fit(X_train,y_train)\n",
    "\n",
    "# Get the best parameters\n",
    "best_params = model.best_params_\n",
    "print('Best parameters: ',best_params)\n",
    "\n",
    "# Use the best model\n",
    "best_model = model.best_estimator_\n",
    "\n",
    "y_pred = best_model.predict(X_test)\n",
    "\n",
    "# Classification Report\n",
    "print(classification_report(y_test,y_pred))\n"
   ]
  },
  {
   "cell_type": "code",
   "execution_count": 29,
   "id": "25dab20c",
   "metadata": {
    "execution": {
     "iopub.execute_input": "2024-01-12T12:40:49.382383Z",
     "iopub.status.busy": "2024-01-12T12:40:49.381742Z",
     "iopub.status.idle": "2024-01-12T12:40:49.389062Z",
     "shell.execute_reply": "2024-01-12T12:40:49.388259Z"
    },
    "papermill": {
     "duration": 0.022028,
     "end_time": "2024-01-12T12:40:49.391454",
     "exception": false,
     "start_time": "2024-01-12T12:40:49.369426",
     "status": "completed"
    },
    "tags": []
   },
   "outputs": [
    {
     "data": {
      "text/plain": [
       "0.8097014925373134"
      ]
     },
     "execution_count": 29,
     "metadata": {},
     "output_type": "execute_result"
    }
   ],
   "source": [
    "accuracy = accuracy_score(y_test,y_pred)\n",
    "accuracy"
   ]
  },
  {
   "cell_type": "markdown",
   "id": "e50cdc0c",
   "metadata": {
    "papermill": {
     "duration": 0.01043,
     "end_time": "2024-01-12T12:40:49.413260",
     "exception": false,
     "start_time": "2024-01-12T12:40:49.402830",
     "status": "completed"
    },
    "tags": []
   },
   "source": [
    "### XGBOOST model is able to give a good accuracy!"
   ]
  }
 ],
 "metadata": {
  "kaggle": {
   "accelerator": "none",
   "dataSources": [
    {
     "datasetId": 4295485,
     "sourceId": 7389476,
     "sourceType": "datasetVersion"
    }
   ],
   "dockerImageVersionId": 30635,
   "isGpuEnabled": false,
   "isInternetEnabled": true,
   "language": "python",
   "sourceType": "notebook"
  },
  "kernelspec": {
   "display_name": "Python 3",
   "language": "python",
   "name": "python3"
  },
  "language_info": {
   "codemirror_mode": {
    "name": "ipython",
    "version": 3
   },
   "file_extension": ".py",
   "mimetype": "text/x-python",
   "name": "python",
   "nbconvert_exporter": "python",
   "pygments_lexer": "ipython3",
   "version": "3.12.0"
  },
  "papermill": {
   "default_parameters": {},
   "duration": 24.826986,
   "end_time": "2024-01-12T12:40:52.046046",
   "environment_variables": {},
   "exception": null,
   "input_path": "__notebook__.ipynb",
   "output_path": "__notebook__.ipynb",
   "parameters": {},
   "start_time": "2024-01-12T12:40:27.219060",
   "version": "2.4.0"
  }
 },
 "nbformat": 4,
 "nbformat_minor": 5
}
